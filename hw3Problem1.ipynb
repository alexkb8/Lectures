{
 "cells": [
  {
   "cell_type": "markdown",
   "metadata": {},
   "source": [
    "# Homework 3 - Computational Physics PHYS1600\n",
    "* Alexander Koh-Bell\n",
    "* GitHub User Name: alexkb8\n",
    "* Email: alexander_koh-bell@brown.edu"
   ]
  },
  {
   "cell_type": "markdown",
   "metadata": {},
   "source": [
    "## Question 1\n",
    "## 1. part a)"
   ]
  },
  {
   "cell_type": "code",
   "execution_count": 113,
   "metadata": {},
   "outputs": [],
   "source": [
    "# %matplotlib notebook\n",
    "import numpy as np\n",
    "from scipy.integrate import odeint\n",
    "import rootfinder as rtf\n",
    "import matplotlib.pyplot as plt\n",
    "from scipy.linalg import eigh"
   ]
  },
  {
   "cell_type": "code",
   "execution_count": 114,
   "metadata": {},
   "outputs": [],
   "source": [
    "class QM(object):\n",
    "    def __init__(self,E, npoints, x_start, x_end = 0, u0 = 0.0, v0 = 0.01):\n",
    "        self.E = E\n",
    "        self.npoints = npoints\n",
    "        self.uv0 = np.array([u0, v0]) # NumPy array with initial position and velocity\n",
    "       \n",
    "        # always want to start at furthest point and go to zero\n",
    "        self.xarray = np.linspace(x_start, x_end, npoints, endpoint = True) # include final timepoint\n",
    "\n",
    "    def scipy_trajectory(self):\n",
    "        \"\"\"calculate trajectory using SciPy ode integrator\"\"\"\n",
    "        self.uv = odeint(self.sch, self.uv0, self.xarray)\n",
    "        self.uv_end = self.uv[-1]\n",
    "\n",
    "\n",
    "    def sch(self, uv, x):\n",
    "    \n",
    "        \"\"\"right hand side of the differential equation\"\"\"\n",
    "        u = uv[1]\n",
    "        v = 1.0*(x**2 - self.E)*uv[0]\n",
    "        return np.ravel(np.array([u, v]))"
   ]
  },
  {
   "cell_type": "code",
   "execution_count": 115,
   "metadata": {},
   "outputs": [],
   "source": [
    "# the matching function\n",
    "def match(En):\n",
    "    a = 1.0e-11\n",
    "    V0 = 50.0\n",
    "    a = 10*10**(-11)\n",
    "    m = 9.1*10**(-31)\n",
    "    h = 6.582119*10**(-16)\n",
    "        \n",
    "    w = (2*V0/(a**2*m))**(1/2)\n",
    "    zetaFactor = ((m*w)/h)**(1/2)\n",
    "    aZeta = zetaFactor*a\n",
    "\n",
    "    \n",
    "    p_up = QM(E = En, npoints = 1000, x_start = -10)\n",
    "    p_down = QM(E = En, npoints = 1000, x_start = 10)\n",
    "    p_up.scipy_trajectory()\n",
    "    p_down.scipy_trajectory()\n",
    "\n",
    "    return p_down.uv_end[0]*p_up.uv_end[1] - p_down.uv_end[1]*p_up.uv_end[0]"
   ]
  },
  {
   "cell_type": "code",
   "execution_count": 122,
   "metadata": {},
   "outputs": [
    {
     "name": "stdout",
     "output_type": "stream",
     "text": [
      "Energy found: 0.50037\n",
      "Energy found: 1.50187\n",
      "Energy found: 2.50486\n",
      "Energy found: 3.50933\n",
      "Energy found: 4.51527\n",
      "Energy found: 5.52270\n",
      "Energy found: 6.53158\n",
      "Energy found: 7.54193\n",
      "Energy found: 8.55373\n",
      "Energy found: 9.56698\n",
      "Above energies in terms of 'K', defined as 2*E/(h*omega)\n",
      "omega is defined as: sqrt(2*V0/(a^2*m)), this comes from the Grifiths Analytic Method\n",
      " \n",
      "List of approximate Energies in eV: \n",
      "[86.31377012973925, 259.0701330492082, 432.08361122439663, 605.3531325346089, 778.8776275315187, 952.6560406012918, 1126.6873351898428, 1300.9704827923608, 1475.5044520858864, 1650.288247667063]\n"
     ]
    }
   ],
   "source": [
    "a = 1.0e-3\n",
    "E1 =  0 # start Energy search at the well depth\n",
    "dE = .1\n",
    "npoints = 1000\n",
    "\n",
    "\n",
    "E_SM = []\n",
    "\n",
    "# fig = plt.figure()\n",
    "# ax = fig.add_subplot(111)\n",
    "\n",
    "# Bound states must have E < 0 for the square well. \n",
    "# Cut off after we have found a few states\n",
    "while (E1 < 25-dE):\n",
    "\n",
    "    if match(E1)*match(E1 + dE) < 0 :  # bracket E\n",
    "        # find the energy\n",
    "        E = rtf.bisect(match, E1, E1+dE, 1e-12)\n",
    "        print('Energy found: %.5f'%(E))\n",
    "        E_SM.append(E)\n",
    "        if (len(E_SM)>9):\n",
    "            break\n",
    "        dx = 16*a/npoints\n",
    "        \n",
    "        # for plotting, must ensure overlap of left and right solutions \n",
    "        p_up = QM(E, npoints = npoints+4, x_start = -10, x_end = 0+4*dx)\n",
    "        p_down = QM(E, npoints = npoints-4, x_start = 10, x_end = 0+4*dx)\n",
    "        \n",
    "        p_up.scipy_trajectory()\n",
    "        p_down.scipy_trajectory()\n",
    "        \n",
    "        # scale factor\n",
    "        scale = p_up.uv_end[0]/p_down.uv_end[0]\n",
    "        \n",
    "        # full solution, combine up and down solutions\n",
    "        psi_x = np.concatenate((p_up.uv[:-1,0], scale*p_down.uv[::-1,0]))\n",
    "        xa = np.linspace(-10,10, 2*npoints-1, endpoint = True)\n",
    "        \n",
    "        # plot the scaled solution (not normalized), scale maximum to 1 for plotting purposes\n",
    "#         ax.plot(xa, psi_x/max(psi_x))\n",
    "    else : \n",
    "#         print(\"No bracket, increasing energy to\", E1+dE)\n",
    "        pass\n",
    "    E1 += dE\n",
    "\n",
    "a = 1.0e-11\n",
    "V0 = 50.0\n",
    "m = 9.1*10**(-31)\n",
    "h = 6.582119*10**(-16)\n",
    "w = (2*V0/(a**2*m))**(1/2)\n",
    "\n",
    "print(\"Above energies in terms of 'K', defined as 2*E/(h*omega)\")\n",
    "print(\"omega is defined as: sqrt(2*V0/(a^2*m)), this comes from the Grifiths Analytic Method\")\n",
    "print(\" \")\n",
    "\n",
    "constant = (h*w/2)*(a*50) #approximate scaling \n",
    "Econverted = [x * (constant) for x in E_SM]\n",
    "print(\"List of approximate Energies in eV: \")\n",
    "print(Econverted)\n",
    "\n",
    "\n",
    "EsHarmonic = E_SM  #storing solutions for part b\n"
   ]
  },
  {
   "cell_type": "markdown",
   "metadata": {},
   "source": [
    "\n",
    "---------------\n",
    "\n",
    "* As can be seen clearly by the energies in terms of 'K', the energies are equally spaced, with an interval of 2 between each.  \n",
    "\n",
    "--------------------------"
   ]
  },
  {
   "cell_type": "markdown",
   "metadata": {},
   "source": [
    "## Question 1, part b:"
   ]
  },
  {
   "cell_type": "code",
   "execution_count": 117,
   "metadata": {},
   "outputs": [],
   "source": [
    "class QM(object):\n",
    "    def __init__(self,E, npoints, x_start, x_end = 0, u0 = 0.0, v0 = 0.01):\n",
    "        self.E = E\n",
    "        self.npoints = npoints\n",
    "        self.uv0 = np.array([u0, v0]) # NumPy array with initial position and velocity\n",
    "       \n",
    "        # always want to start at furthest point and go to zero\n",
    "        self.xarray = np.linspace(x_start, x_end, npoints, endpoint = True) # include final timepoint\n",
    "\n",
    "    def scipy_trajectory(self):\n",
    "        \"\"\"calculate trajectory using SciPy ode integrator\"\"\"\n",
    "        self.uv = odeint(self.sch, self.uv0, self.xarray)\n",
    "        self.uv_end = self.uv[-1]\n",
    "\n",
    "\n",
    "    def sch(self, uv, x):    \n",
    "        \"\"\"right hand side of the differential equation\"\"\"\n",
    "        u = uv[1]\n",
    "        v = 2.0*(self.Potential(x) - self.E)*uv[0]\n",
    "        return np.ravel(np.array([u, v]))\n",
    "\n",
    "    def Potential(self, x):\n",
    "        #V(x)  =V0x2/a2+V′0x4/a4, with V′0= 0.1V0\n",
    "#         a = 1.0e-11 # width of well\n",
    "        a = 10\n",
    "        V0 = 50 # depth of well\n",
    "        Vprime = V0*0.1\n",
    "        V = V0*x**2/a**2 + Vprime*x**4/a**4\n",
    "        return V"
   ]
  },
  {
   "cell_type": "code",
   "execution_count": 118,
   "metadata": {},
   "outputs": [],
   "source": [
    "# the matching function\n",
    "def match(En):\n",
    "    a = 1.0e-11\n",
    "    V0 = 50.0\n",
    "    a = 10*10**(-11)\n",
    "    m = 9.1*10**(-31)\n",
    "    h = 6.582119*10**(-16)\n",
    "        \n",
    "    w = (2*V0/(a**2*m))**(1/2)\n",
    "    zetaFactor = ((m*w)/h)**(1/2)\n",
    "    aZeta = zetaFactor*a\n",
    "\n",
    "    \n",
    "    p_up = QM(E = En, npoints = 1000, x_start = -10)\n",
    "    p_down = QM(E = En, npoints = 1000, x_start = 10)\n",
    "    p_up.scipy_trajectory()\n",
    "    p_down.scipy_trajectory()\n",
    "\n",
    "    return p_down.uv_end[0]*p_up.uv_end[1] - p_down.uv_end[1]*p_up.uv_end[0]"
   ]
  },
  {
   "cell_type": "code",
   "execution_count": 119,
   "metadata": {},
   "outputs": [
    {
     "name": "stdout",
     "output_type": "stream",
     "text": [
      "Energy found: 0.50037\n",
      "Energy found: 1.50187\n",
      "Energy found: 2.50486\n",
      "Energy found: 3.50933\n",
      "Energy found: 4.51527\n",
      "Energy found: 5.52270\n",
      "Energy found: 6.53158\n",
      "Energy found: 7.54193\n",
      "Energy found: 8.55373\n",
      "Energy found: 9.56698\n",
      "Energy found: 10.58167\n",
      "Above energies in terms of 'K', defined as 2*E/(h*omega)\n",
      " \n",
      "List of approximate Energies in eV: \n",
      "[86.31377012978626, 259.0701330491609, 432.08361122431813, 605.3531325349066, 778.8776275260745, 952.6560405960364, 1126.687335125944, 1300.970482905431, 1475.5044529657546, 1650.2882476354218, 1825.3208674625932]\n"
     ]
    }
   ],
   "source": [
    "a = 1.0e-3\n",
    "E1 =  0 # start Energy search at the well depth\n",
    "dE = 1\n",
    "npoints = 10000\n",
    "\n",
    "\n",
    "E_SM = []\n",
    "\n",
    "# fig = plt.figure()\n",
    "# ax = fig.add_subplot(111)\n",
    "\n",
    "# Bound states must have E < 0 for the square well. \n",
    "# Cut off after we have found a few states\n",
    "while (E1 < 50-dE):\n",
    "\n",
    "    if match(E1)*match(E1 + dE) < 0 :  # bracket E\n",
    "        # find the energy\n",
    "        E = rtf.bisect(match, E1, E1+dE, 1e-12)\n",
    "        print('Energy found: %.5f'%(E))\n",
    "        E_SM.append(E)\n",
    "        if (len(E_SM)>10):\n",
    "            break\n",
    "        dx = 16*a/npoints\n",
    "        \n",
    "        # for plotting, must ensure overlap of left and right solutions \n",
    "        p_up = QM(E, npoints = npoints+4, x_start = -10, x_end = 0+4*dx)\n",
    "        p_down = QM(E, npoints = npoints-4, x_start = 10, x_end = 0+4*dx)\n",
    "        \n",
    "        p_up.scipy_trajectory()\n",
    "        p_down.scipy_trajectory()\n",
    "        \n",
    "        # scale factor\n",
    "        scale = p_up.uv_end[0]/p_down.uv_end[0]\n",
    "        \n",
    "        # full solution, combine up and down solutions\n",
    "        psi_x = np.concatenate((p_up.uv[:-1,0], scale*p_down.uv[::-1,0]))\n",
    "        xa = np.linspace(-10,10, 2*npoints-1, endpoint = True)\n",
    "        \n",
    "#         # plot the scaled solution (not normalized), scale maximum to 1 for plotting purposes\n",
    "#         ax.plot(xa, psi_x/max(psi_x))\n",
    "    else : \n",
    "         print(\"No bracket, increasing energy to\", E1+dE)\n",
    "        \n",
    "    E1 += dE\n",
    "\n",
    "a = 1.0e-11\n",
    "V0 = 50.0\n",
    "a = 10*10**(-11)\n",
    "m = 9.1*10**(-31)\n",
    "h = 6.582119*10**(-16)\n",
    "w = (2*V0/(a**2*m))**(1/2)\n",
    "\n",
    "\n",
    "\n",
    "number = range(1, 12)\n",
    "\n",
    "\n",
    "a = 1.0e-11\n",
    "V0 = 50.0\n",
    "m = 9.1*10**(-31)\n",
    "h = 6.582119*10**(-16)\n",
    "w = (2*V0/(a**2*m))**(1/2)\n",
    "\n",
    "print(\"Above energies in terms of 'K', defined as 2*E/(h*omega)\")\n",
    "print(\" \")\n",
    "\n",
    "constant = (h*w/2)*(a*50) #approximate scaling \n",
    "Econverted = [x * (constant) for x in E_SM]\n",
    "print(\"List of approximate Energies in eV: \")\n",
    "print(Econverted)"
   ]
  },
  {
   "cell_type": "code",
   "execution_count": 120,
   "metadata": {},
   "outputs": [
    {
     "data": {
      "image/png": "[encoded data removed]",
      "text/plain": [
       "<Figure size 432x288 with 1 Axes>"
      ]
     },
     "metadata": {
      "needs_background": "light"
     },
     "output_type": "display_data"
    }
   ],
   "source": [
    "plt.figure()\n",
    "plt.scatter(number,E_SM,label='anharmonic')\n",
    "plt.xlabel(\"Level number\")\n",
    "plt.ylabel(\"Energy (K = 2E/hw)\")\n",
    "\n",
    "#EsHarmonic stored solutions from part a\n",
    "numbA = range(1, 11)\n",
    "partA = plt.scatter(numbA,EsHarmonic,label='Harmonic')\n",
    "plt.legend();\n",
    "\n",
    "\n"
   ]
  },
  {
   "cell_type": "markdown",
   "metadata": {},
   "source": [
    "For both cases, it can be seen that the energies are evenly spaced, and that the energies linearly increase with level number. \n",
    "\n",
    "---------------"
   ]
  },
  {
   "cell_type": "markdown",
   "metadata": {},
   "source": [
    "## Question 1, part C)"
   ]
  },
  {
   "cell_type": "code",
   "execution_count": 121,
   "metadata": {},
   "outputs": [
    {
     "name": "stdout",
     "output_type": "stream",
     "text": [
      "Energy found: 0.50037\n",
      "Energy found: 1.50187\n",
      "Energy found: 2.50486\n",
      "Energy found: 3.50933\n"
     ]
    },
    {
     "data": {
      "image/png": "[encoded data removed]",
      "text/plain": [
       "<Figure size 432x288 with 1 Axes>"
      ]
     },
     "metadata": {
      "needs_background": "light"
     },
     "output_type": "display_data"
    }
   ],
   "source": [
    "# PART C:\n",
    "a = 1.0e-3\n",
    "E1 =  0 # start Energy search at the well depth\n",
    "dE = 1\n",
    "npoints = 10000\n",
    "E_SM = []\n",
    "\n",
    "fig = plt.figure()\n",
    "ax = fig.add_subplot(111)\n",
    "\n",
    "# Bound states must have E < 0 for the square well. \n",
    "# Cut off after we have found a few states\n",
    "while (E1 < 50-dE):\n",
    "\n",
    "    if match(E1)*match(E1 + dE) < 0 :  # bracket E\n",
    "        # find the energy\n",
    "        E = rtf.bisect(match, E1, E1+dE, 1e-12)\n",
    "        print('Energy found: %.5f'%(E))\n",
    "        E_SM.append(E)\n",
    "        if (len(E_SM)>3):\n",
    "            break\n",
    "        dx = 16*a/npoints\n",
    "        \n",
    "        # for plotting, must ensure overlap of left and right solutions \n",
    "        p_up = QM(E, npoints = npoints+4, x_start = -10, x_end = 0+4*dx)\n",
    "        p_down = QM(E, npoints = npoints-4, x_start = 10, x_end = 0+4*dx)\n",
    "        \n",
    "        p_up.scipy_trajectory()\n",
    "        p_down.scipy_trajectory()\n",
    "        \n",
    "        # scale factor\n",
    "        scale = p_up.uv_end[0]/p_down.uv_end[0]\n",
    "        \n",
    "        # full solution, combine up and down solutions\n",
    "        psi_x = np.concatenate((p_up.uv[:-1,0], scale*p_down.uv[::-1,0]))\n",
    "        xa = np.linspace(-10,10, 2*npoints-1, endpoint = True)\n",
    "        \n",
    "        # plot the scaled solution (not normalized), scale maximum to 1 for plotting purposes\n",
    "        ax.plot(xa, psi_x/max(psi_x))\n",
    "    else : \n",
    "         print(\"No bracket, increasing energy to\", E1+dE)\n",
    "        \n",
    "    E1 += dE\n",
    "\n",
    "\n",
    "# plot the potential\n",
    "ax.plot(xa, np.vectorize(p_up.Potential)(xa)/10., color = 'k', lw =2)\n",
    "ax.set_xlim([-6, 6])\n",
    "ax.set_xlabel('x')\n",
    "ax.set_ylabel('$\\psi$')\n",
    "plt.show()"
   ]
  },
  {
   "cell_type": "code",
   "execution_count": null,
   "metadata": {},
   "outputs": [],
   "source": []
  }
 ],
 "metadata": {
  "kernelspec": {
   "display_name": "Python 3",
   "language": "python",
   "name": "phys1600"
  },
  "language_info": {
   "codemirror_mode": {
    "name": "ipython",
    "version": 3
   },
   "file_extension": ".py",
   "mimetype": "text/x-python",
   "name": "python",
   "nbconvert_exporter": "python",
   "pygments_lexer": "ipython3",
   "version": "3.8.6"
  }
 },
 "nbformat": 4,
 "nbformat_minor": 4
}
