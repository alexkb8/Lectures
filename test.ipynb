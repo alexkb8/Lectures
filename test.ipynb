{
 "cells": [
  {
   "cell_type": "code",
   "execution_count": 1,
   "id": "bearing-resident",
   "metadata": {},
   "outputs": [
    {
     "name": "stdout",
     "output_type": "stream",
     "text": [
      "\n",
      "****************************** Results ********************************\n",
      "\n",
      "final time  =  1.0000000000000007\n",
      "y =  5.104899999999977 and v =  -9.800000000000114\n",
      "EXACT y =  5.099999999999993\n",
      "**********************************************************************\n"
     ]
    }
   ],
   "source": [
    "run FallingBall1.py"
   ]
  },
  {
   "cell_type": "code",
   "execution_count": 2,
   "id": "waiting-baptist",
   "metadata": {},
   "outputs": [
    {
     "name": "stdout",
     "output_type": "stream",
     "text": [
      "\n",
      "****************************** Results ********************************\n",
      "\n",
      "final time  =  1.0000000000000007\n",
      "y =  5.104899999999977 and v =  -9.800000000000114\n",
      "EXACT y =  5.099999999999993\n",
      "**********************************************************************\n"
     ]
    }
   ],
   "source": [
    "import FallingBall1"
   ]
  },
  {
   "cell_type": "code",
   "execution_count": 3,
   "id": "supreme-recovery",
   "metadata": {},
   "outputs": [
    {
     "name": "stdout",
     "output_type": "stream",
     "text": [
      "10.0\n"
     ]
    }
   ],
   "source": [
    "print(y0)"
   ]
  },
  {
   "cell_type": "code",
   "execution_count": 4,
   "id": "numeric-bibliography",
   "metadata": {},
   "outputs": [
    {
     "name": "stdout",
     "output_type": "stream",
     "text": [
      "\u001b[H\u001b[2J"
     ]
    }
   ],
   "source": [
    "clear\n"
   ]
  },
  {
   "cell_type": "code",
   "execution_count": 5,
   "id": "sonic-dover",
   "metadata": {},
   "outputs": [
    {
     "name": "stdout",
     "output_type": "stream",
     "text": [
      "*****   Hello PHYS 1600 !!!   *****\n",
      "\n",
      "1\n",
      "1\n",
      "2\n",
      "3\n",
      "5\n",
      "8\n",
      "[1, 1, 2, 3, 5, 8]\n",
      "0 , 0\n",
      "1 , 1\n",
      "2 , 1\n",
      "3 , 2\n",
      "4 , 3\n"
     ]
    }
   ],
   "source": [
    "import Demo\n"
   ]
  },
  {
   "cell_type": "code",
   "execution_count": 6,
   "id": "photographic-allowance",
   "metadata": {},
   "outputs": [
    {
     "data": {
      "text/plain": [
       "<module 'numpy' from '/opt/conda/envs/phys1600/lib/python3.8/site-packages/numpy/__init__.py'>"
      ]
     },
     "execution_count": 6,
     "metadata": {},
     "output_type": "execute_result"
    }
   ],
   "source": [
    "Demo.np\n"
   ]
  },
  {
   "cell_type": "code",
   "execution_count": null,
   "id": "present-difference",
   "metadata": {},
   "outputs": [],
   "source": []
  }
 ],
 "metadata": {
  "kernelspec": {
   "display_name": "Python 3",
   "language": "python",
   "name": "phys1600"
  },
  "language_info": {
   "codemirror_mode": {
    "name": "ipython",
    "version": 3
   },
   "file_extension": ".py",
   "mimetype": "text/x-python",
   "name": "python",
   "nbconvert_exporter": "python",
   "pygments_lexer": "ipython3",
   "version": "3.8.6"
  }
 },
 "nbformat": 4,
 "nbformat_minor": 5
}
